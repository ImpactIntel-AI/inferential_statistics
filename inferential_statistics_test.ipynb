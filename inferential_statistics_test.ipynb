{
 "cells": [
  {
   "cell_type": "code",
   "execution_count": 4,
   "id": "de0599dd",
   "metadata": {},
   "outputs": [
    {
     "name": "stdout",
     "output_type": "stream",
     "text": [
      "Requirement already satisfied: statsmodels in c:\\users\\savai\\appdata\\local\\programs\\python\\python313\\lib\\site-packages (0.14.4)\n",
      "Requirement already satisfied: numpy<3,>=1.22.3 in c:\\users\\savai\\appdata\\local\\programs\\python\\python313\\lib\\site-packages (from statsmodels) (2.2.5)\n",
      "Requirement already satisfied: scipy!=1.9.2,>=1.8 in c:\\users\\savai\\appdata\\local\\programs\\python\\python313\\lib\\site-packages (from statsmodels) (1.15.3)\n",
      "Requirement already satisfied: pandas!=2.1.0,>=1.4 in c:\\users\\savai\\appdata\\local\\programs\\python\\python313\\lib\\site-packages (from statsmodels) (2.2.3)\n",
      "Requirement already satisfied: patsy>=0.5.6 in c:\\users\\savai\\appdata\\local\\programs\\python\\python313\\lib\\site-packages (from statsmodels) (1.0.1)\n",
      "Requirement already satisfied: packaging>=21.3 in c:\\users\\savai\\appdata\\local\\programs\\python\\python313\\lib\\site-packages (from statsmodels) (25.0)\n",
      "Requirement already satisfied: python-dateutil>=2.8.2 in c:\\users\\savai\\appdata\\local\\programs\\python\\python313\\lib\\site-packages (from pandas!=2.1.0,>=1.4->statsmodels) (2.9.0.post0)\n",
      "Requirement already satisfied: pytz>=2020.1 in c:\\users\\savai\\appdata\\local\\programs\\python\\python313\\lib\\site-packages (from pandas!=2.1.0,>=1.4->statsmodels) (2025.2)\n",
      "Requirement already satisfied: tzdata>=2022.7 in c:\\users\\savai\\appdata\\local\\programs\\python\\python313\\lib\\site-packages (from pandas!=2.1.0,>=1.4->statsmodels) (2025.2)\n",
      "Requirement already satisfied: six>=1.5 in c:\\users\\savai\\appdata\\local\\programs\\python\\python313\\lib\\site-packages (from python-dateutil>=2.8.2->pandas!=2.1.0,>=1.4->statsmodels) (1.17.0)\n",
      "Note: you may need to restart the kernel to use updated packages.\n"
     ]
    }
   ],
   "source": [
    "## let's import the necessary libraries\n",
    "%pip install statsmodels\n",
    "import pandas as pd\n",
    "import numpy as np\n",
    "from scipy import stats\n",
    "import statsmodels.api as sm\n",
    "import statsmodels.formula.api as ols\n",
    "from scipy.stats import chi2_contingency,chisquare\n",
    "from scipy.stats import norm "
   ]
  },
  {
   "cell_type": "code",
   "execution_count": 5,
   "id": "24c27b14",
   "metadata": {},
   "outputs": [],
   "source": [
    "## Load the csv into our code using pandas\n",
    "iris = pd.read_csv(\"C:/Users/savai/Documents/Documents/Iris.csv\")\n",
    "titanic = pd.read_csv(\"C:/Users/savai/Documents/Documents/titanic.csv\")\n",
    "students = pd.read_csv(\"C:/Users/savai/Documents/Documents/StudentsPerformance.csv\")\n"
   ]
  },
  {
   "cell_type": "code",
   "execution_count": 6,
   "id": "fc2e1c86",
   "metadata": {},
   "outputs": [
    {
     "name": "stdout",
     "output_type": "stream",
     "text": [
      "   Id  SepalLengthCm  SepalWidthCm  PetalLengthCm  PetalWidthCm      Species\n",
      "0   1            5.1           3.5            1.4           0.2  Iris-setosa\n",
      "1   2            4.9           3.0            1.4           0.2  Iris-setosa\n",
      "2   3            4.7           3.2            1.3           0.2  Iris-setosa\n",
      "3   4            4.6           3.1            1.5           0.2  Iris-setosa\n",
      "4   5            5.0           3.6            1.4           0.2  Iris-setosa\n",
      "   PassengerId  Survived  Pclass  \\\n",
      "0          892         0       3   \n",
      "1          893         1       3   \n",
      "2          894         0       2   \n",
      "3          895         0       3   \n",
      "4          896         1       3   \n",
      "\n",
      "                                           Name     Sex   Age  SibSp  Parch  \\\n",
      "0                              Kelly, Mr. James    male  34.5      0      0   \n",
      "1              Wilkes, Mrs. James (Ellen Needs)  female  47.0      1      0   \n",
      "2                     Myles, Mr. Thomas Francis    male  62.0      0      0   \n",
      "3                              Wirz, Mr. Albert    male  27.0      0      0   \n",
      "4  Hirvonen, Mrs. Alexander (Helga E Lindqvist)  female  22.0      1      1   \n",
      "\n",
      "    Ticket     Fare Cabin Embarked  \n",
      "0   330911   7.8292   NaN        Q  \n",
      "1   363272   7.0000   NaN        S  \n",
      "2   240276   9.6875   NaN        Q  \n",
      "3   315154   8.6625   NaN        S  \n",
      "4  3101298  12.2875   NaN        S  \n",
      "   gender race/ethnicity parental level of education         lunch  \\\n",
      "0  female        group B           bachelor's degree      standard   \n",
      "1  female        group C                some college      standard   \n",
      "2  female        group B             master's degree      standard   \n",
      "3    male        group A          associate's degree  free/reduced   \n",
      "4    male        group C                some college      standard   \n",
      "\n",
      "  test preparation course  math score  reading score  writing score  \n",
      "0                    none          72             72             74  \n",
      "1               completed          69             90             88  \n",
      "2                    none          90             95             93  \n",
      "3                    none          47             57             44  \n",
      "4                    none          76             78             75  \n"
     ]
    }
   ],
   "source": [
    "## confirm the loaded datasets\n",
    "print(iris.head())\n",
    "print(titanic.head())\n",
    "print(students.head())"
   ]
  },
  {
   "cell_type": "markdown",
   "id": "2aa92159",
   "metadata": {},
   "source": [
    "## Question 1"
   ]
  },
  {
   "cell_type": "code",
   "execution_count": 7,
   "id": "55e5880f",
   "metadata": {},
   "outputs": [
    {
     "name": "stdout",
     "output_type": "stream",
     "text": [
      "T-statistic: 0.12036212238318053\n",
      "P-value: 0.9046884777690936\n",
      "we fail to reject this hypothesis\n"
     ]
    }
   ],
   "source": [
    "# Question 1: One-sample t-test on Iris dataset \n",
    "# Task: Load the Iris dataset \n",
    "# test if the mean sepal length of Iris-setosa is equal to 5.0.\n",
    "\n",
    "setosa_sepal_length = iris[iris['Species'] == 'Iris-setosa']['SepalLengthCm']\n",
    "\n",
    "# Perform the one-sample t-test\n",
    "t_stat, p_value = stats.ttest_1samp(setosa_sepal_length, 5.0)\n",
    "\n",
    "# Print the results\n",
    "print(\"T-statistic:\", t_stat)\n",
    "print(\"P-value:\", p_value)\n",
    "\n",
    "alpha = 0.05\n",
    "if p_value < alpha:\n",
    "    print(\"we reject this hypothesis\")\n",
    "else:\n",
    "    print(\"we fail to reject this hypothesis\")\n",
    "\n",
    "# Is the mean sepal length significantly different from 5.0? (Answer: p < 0.05, so yes/no)\n",
    "# Yes, the mean sepal length of Iris-setosa is significantly different from 5.0 since the p-value is less than 0.05.\n",
    " "
   ]
  },
  {
   "cell_type": "markdown",
   "id": "25b66fe4",
   "metadata": {},
   "source": [
    "## Question 2"
   ]
  },
  {
   "cell_type": "code",
   "execution_count": 8,
   "id": "5b13ac1d",
   "metadata": {},
   "outputs": [
    {
     "name": "stdout",
     "output_type": "stream",
     "text": [
      "Setosa Sepal Width: count    50.000000\n",
      "mean      3.418000\n",
      "std       0.381024\n",
      "min       2.300000\n",
      "25%       3.125000\n",
      "50%       3.400000\n",
      "75%       3.675000\n",
      "max       4.400000\n",
      "Name: SepalWidthCm, dtype: float64\n",
      "Versicolor Sepal Width: count    50.000000\n",
      "mean      2.770000\n",
      "std       0.313798\n",
      "min       2.000000\n",
      "25%       2.525000\n",
      "50%       2.800000\n",
      "75%       3.000000\n",
      "max       3.400000\n",
      "Name: SepalWidthCm, dtype: float64\n",
      "3.418\n",
      "2.7700000000000005\n",
      "T-statistic: 9.282772555558111\n",
      "P-value: 4.362239016010214e-15\n",
      "Since p = 0.0000 < 0.05, we reject H0.\n",
      "Conclusion: There is a significant difference in mean sepal width between Setosa and Versicolor.\n"
     ]
    }
   ],
   "source": [
    "# Question 2: Two-sample t-test on Iris dataset Task: Compare sepal width of Iris-setosa and Iris-versicolor.\n",
    "\n",
    "setosa_sepal_width = iris[iris['Species'] == 'Iris-setosa']['SepalWidthCm']\n",
    "versicolor_sepal_width = iris[iris['Species'] == 'Iris-versicolor']['SepalWidthCm']\n",
    "\n",
    "print(\"Setosa Sepal Width:\", setosa_sepal_width.describe())\n",
    "print(\"Versicolor Sepal Width:\", versicolor_sepal_width.describe())\n",
    "\n",
    "##lets now go into the mean of the two\n",
    "print(setosa_sepal_width.mean())\n",
    "print(versicolor_sepal_width.mean())\n",
    "\n",
    "# Perform the two-sample t-test\n",
    "t_stat, p_value = stats.ttest_ind(setosa_sepal_width, versicolor_sepal_width)\n",
    "\n",
    "# Print the results\n",
    "print(\"T-statistic:\", t_stat)\n",
    "print(\"P-value:\", p_value)\n",
    "\n",
    "##compare p_value to alpha\n",
    "alpha = 0.05\n",
    "if p_value < alpha:\n",
    "    print(f\"Since p = {p_value:.4f} < 0.05, we reject H0.\")\n",
    "    print(\"Conclusion: There is a significant difference in mean sepal width between Setosa and Versicolor.\")\n",
    "else:\n",
    "    print(f\"Since p = {p_value:.4f} >= 0.05, we fail to reject H0.\")\n",
    "    print(\"Conclusion: No significant difference in mean sepal width.\")\n",
    "\n"
   ]
  },
  {
   "cell_type": "code",
   "execution_count": 9,
   "id": "8e6bcd89",
   "metadata": {},
   "outputs": [
    {
     "name": "stdout",
     "output_type": "stream",
     "text": [
      "ANOVA F-statistic: 1179.0343277002194\n",
      "ANOVA p-value: 3.051975801827782e-91\n",
      "we reject this hypothesis\n"
     ]
    }
   ],
   "source": [
    "## Q2: Are the means significantly different? (Answer: p < 0.05, so yes/no) \n",
    "# Yes, the means are significantly different.\n",
    "\n",
    "# Question 3: One-way ANOVA on Iris dataset Task: Test if petal length differs across all three Iris species.\n",
    "# Perform one-way ANOVA\n",
    "anova_result = stats.f_oneway(\n",
    "    iris[iris['Species'] == 'Iris-setosa']['PetalLengthCm'],\n",
    "    iris[iris['Species'] == 'Iris-versicolor']['PetalLengthCm'],\n",
    "    iris[iris['Species'] == 'Iris-virginica']['PetalLengthCm']\n",
    ")\n",
    "# Print the results\n",
    "print(\"ANOVA F-statistic:\", anova_result.statistic)\n",
    "print(\"ANOVA p-value:\", anova_result.pvalue)\n",
    "\n",
    "alpha = 0.05\n",
    "if anova_result.pvalue < alpha:\n",
    "    print(\"we reject this hypothesis\")\n",
    "else:\n",
    "    print(\"we fail to reject this hypothesis\")"
   ]
  },
  {
   "cell_type": "code",
   "execution_count": 10,
   "id": "e0a5abbb",
   "metadata": {},
   "outputs": [
    {
     "name": "stdout",
     "output_type": "stream",
     "text": [
      "Contingency Table:\n",
      " Pclass     1   2    3\n",
      "Survived             \n",
      "0         57  63  146\n",
      "1         50  30   72\n",
      "Chi-square Statistic: 6.693869422819262\n",
      "P-value: 0.03519206276590605\n",
      "we reject this hypothesis\n"
     ]
    }
   ],
   "source": [
    "## Q3: Is there a significant difference in petal length across species? (Answer: p < 0.05, so yes/no) \n",
    "# Yes, there is a significant difference in petal length across species.\n",
    "\n",
    "# Question 4: Chi-square test on Titanic dataset Task: Load the Titanic dataset and test if survival is independent of passenger class (Pclass). \n",
    "# titanic = pd.read_csv('titanic.csv') \n",
    "contingency_table = pd.crosstab(titanic['Survived'], titanic['Pclass'])\n",
    "print(\"Contingency Table:\\n\", contingency_table)\n",
    "\n",
    "# Perform the Chi-square test\n",
    "chi2_stat, p_value, dof, expected = stats.chi2_contingency(contingency_table)\n",
    "\n",
    "# Print the results\n",
    "print(\"Chi-square Statistic:\", chi2_stat)\n",
    "print(\"P-value:\", p_value)\n",
    "\n",
    "alpha = 0.05\n",
    "if p_value < alpha:\n",
    "    print(\"we reject this hypothesis\")\n",
    "else:\n",
    "    print(\"we fail to reject this hypothesis\")\n",
    "## Q4: Is survival independent of passenger class? (Answer: p < 0.05, so yes/no)\n",
    "# No, survival is not independent of passenger class since the p-value is less than 0"
   ]
  },
  {
   "cell_type": "code",
   "execution_count": 11,
   "id": "b1af0f17",
   "metadata": {},
   "outputs": [
    {
     "name": "stdout",
     "output_type": "stream",
     "text": [
      "Z-statistic: 0.3425401906574815\n",
      "P-value: 0.7319444034595516\n",
      "we fail to reject this hypothesis\n"
     ]
    }
   ],
   "source": [
    "## Question 5: One-sample z-test on Titanic dataset Task: Test if the mean age of passengers is equal to 30 (assume population std = 14.5).\n",
    "titanic_age = titanic['Age'].dropna()  # Drop NaN values\n",
    "mean_age = 30\n",
    "population_std = 14.5\n",
    "# Calculate the sample mean and size\n",
    "sample_mean = titanic_age.mean()\n",
    "sample_size = titanic_age.count()\n",
    "\n",
    "# Perform the one-sample z-test\n",
    "z_stat = (sample_mean - mean_age) / (population_std / (sample_size ** 0.5))\n",
    "p_value = stats.norm.sf(abs(z_stat)) * 2  # Two-tailed test\n",
    "# Print the results\n",
    "print(\"Z-statistic:\", z_stat)\n",
    "print(\"P-value:\", p_value)\n",
    "\n",
    "alpha = 0.05\n",
    "if p_value < alpha:\n",
    "    print(\"we reject this hypothesis\")\n",
    "else:\n",
    "    print(\"we fail to reject this hypothesis\")"
   ]
  },
  {
   "cell_type": "code",
   "execution_count": 12,
   "id": "2f78ebff",
   "metadata": {},
   "outputs": [
    {
     "name": "stdout",
     "output_type": "stream",
     "text": [
      "T-statistic: 0.000230386457754343\n",
      "P-value: 0.9998163174099579\n",
      "we fail to reject this hypothesis\n"
     ]
    }
   ],
   "source": [
    "## Question 6: Independent t-test on Titanic dataset Task: Compare mean age of male vs. female passengers. \n",
    "male_age = titanic[titanic['Sex'] == 'male']['Age'].dropna()\n",
    "female_age = titanic[titanic['Sex'] == 'female']['Age'].dropna()\n",
    "\n",
    "# Perform the independent t-test\n",
    "t_stat, p_value = stats.ttest_ind(male_age, female_age)\n",
    "\n",
    "# Print the results\n",
    "print(\"T-statistic:\", t_stat)\n",
    "print(\"P-value:\", p_value)\n",
    "\n",
    "alpha = 0.05\n",
    "if p_value < alpha:\n",
    "    print(\"we reject this hypothesis\")\n",
    "else:\n",
    "    print(\"we fail to reject this hypothesis\")\n"
   ]
  },
  {
   "cell_type": "code",
   "execution_count": 13,
   "id": "003c04d6",
   "metadata": {},
   "outputs": [
    {
     "name": "stdout",
     "output_type": "stream",
     "text": [
      "F-statistic: nan\n",
      "P-value: nan\n",
      "we fail to reject this hypothesis\n"
     ]
    }
   ],
   "source": [
    "## Question 7: One-way ANOVA on Titanic dataset Task: Test if fare differs across passenger classes (Pclass).\n",
    "import scipy.stats as stats\n",
    "\n",
    "# Group fares by passenger class\n",
    "fare_groups = [group['Fare'].values for name, group in titanic.groupby('Pclass')]\n",
    "\n",
    "# Perform the one-way ANOVA\n",
    "f_stat, p_value = stats.f_oneway(*fare_groups)\n",
    "\n",
    "# Print the results\n",
    "print(\"F-statistic:\", f_stat)\n",
    "print(\"P-value:\", p_value)\n",
    "\n",
    "alpha = 0.05\n",
    "if p_value < alpha:\n",
    "    print(\"we reject this hypothesis\")\n",
    "else:\n",
    "    print(\"we fail to reject this hypothesis\")\n"
   ]
  },
  {
   "cell_type": "code",
   "execution_count": 14,
   "id": "c56e2ebd",
   "metadata": {},
   "outputs": [
    {
     "name": "stdout",
     "output_type": "stream",
     "text": [
      "Chi-square Statistic: 413.6897405343716\n",
      "P-value: 5.767311139789629e-92\n",
      "we reject this hypothesis\n"
     ]
    }
   ],
   "source": [
    "## Question 8: Chi-square test on Titanic dataset Task: Test if survival is independent of sex.\n",
    "contingency_table = pd.crosstab(titanic['Survived'], titanic['Sex'])\n",
    "# Perform the Chi-square test\n",
    "chi2_stat, p_value, dof, expected = stats.chi2_contingency(contingency_table)\n",
    "# Print the results\n",
    "print(\"Chi-square Statistic:\", chi2_stat)\n",
    "print(\"P-value:\", p_value)\n",
    "\n",
    "alpha = 0.05\n",
    "if p_value < alpha:\n",
    "    print(\"we reject this hypothesis\")\n",
    "else:\n",
    "    print(\"we fail to reject this hypothesis\")\n"
   ]
  },
  {
   "cell_type": "code",
   "execution_count": 15,
   "id": "6abbf53e",
   "metadata": {},
   "outputs": [
    {
     "name": "stdout",
     "output_type": "stream",
     "text": [
      "T-statistic: -10.816230631665421\n",
      "P-value: 7.322335900414137e-26\n",
      "we reject this hypothesis\n"
     ]
    }
   ],
   "source": [
    "## Question 9: Paired t-test on Student Performance dataset Task: Load the Student Performance dataset and test if math score and reading score differ for the same students.\n",
    "math_scores = students['math score']\n",
    "reading_scores = students['reading score']\n",
    "\n",
    "# Perform the paired t-test\n",
    "t_stat, p_value = stats.ttest_rel(math_scores, reading_scores)\n",
    "\n",
    "# Print the results\n",
    "print(\"T-statistic:\", t_stat)\n",
    "print(\"P-value:\", p_value)\n",
    "\n",
    "alpha = 0.05\n",
    "if p_value < alpha:\n",
    "    print(\"we reject this hypothesis\")\n",
    "else:\n",
    "    print(\"we fail to reject this hypothesis\")\n"
   ]
  },
  {
   "cell_type": "code",
   "execution_count": 16,
   "id": "4ce7e210",
   "metadata": {},
   "outputs": [
    {
     "name": "stdout",
     "output_type": "stream",
     "text": [
      "Z-statistic: -4.1025282177917735\n",
      "P-value: 4.0865999676920124e-05\n",
      "we reject this hypothesis\n"
     ]
    }
   ],
   "source": [
    "## Question 10: One-sample z-test on Student Performance dataset Task: Test if the mean writing score is equal to 70 (assume population std = 15).\n",
    "writing_scores = students['writing score'].dropna()  # Drop NaN values\n",
    "mean_writing_score = 70\n",
    "population_std = 15\n",
    "# Calculate the sample mean and size\n",
    "sample_mean = writing_scores.mean()\n",
    "sample_size = writing_scores.count()\n",
    "\n",
    "# Perform the one-sample z-test\n",
    "z_stat = (sample_mean - mean_writing_score) / (population_std / (sample_size ** 0.5))\n",
    "p_value = stats.norm.sf(abs(z_stat)) * 2  # Two-tailed test\n",
    "# Print the results\n",
    "print(\"Z-statistic:\", z_stat)\n",
    "print(\"P-value:\", p_value)\n",
    "\n",
    "alpha = 0.05\n",
    "if p_value < alpha:\n",
    "    print(\"we reject this hypothesis\")\n",
    "else:\n",
    "    print(\"we fail to reject this hypothesis\")"
   ]
  },
  {
   "cell_type": "code",
   "execution_count": 17,
   "id": "469f699b",
   "metadata": {},
   "outputs": [
    {
     "name": "stdout",
     "output_type": "stream",
     "text": [
      "T-statistic: 5.383245869828983\n",
      "P-value: 9.120185549328822e-08\n",
      "we reject this hypothesis\n"
     ]
    }
   ],
   "source": [
    "## Question 11: Two-sample t-test on Student Performance dataset Task: Compare math scores of male vs. female students.\n",
    "male_math = students[students['gender'] == 'male']['math score']\n",
    "female_math = students[students['gender'] == 'female']['math score']\n",
    "\n",
    "# Perform the independent t-test\n",
    "t_stat, p_value = stats.ttest_ind(male_math, female_math)\n",
    "\n",
    "# Print the results\n",
    "print(\"T-statistic:\", t_stat)\n",
    "print(\"P-value:\", p_value)\n",
    "\n",
    "alpha = 0.05\n",
    "if p_value < alpha:\n",
    "    print(\"we reject this hypothesis\")\n",
    "else:\n",
    "    print(\"we fail to reject this hypothesis\")\n"
   ]
  },
  {
   "cell_type": "code",
   "execution_count": null,
   "id": "decf529a",
   "metadata": {},
   "outputs": [],
   "source": [
    "# Question 12: One-way ANOVA on Student Performance dataset Task: Test if math scores differ across ethnic groups (race/ethnicity).\n",
    "# Group math scores by \n",
    "math_groups = [group['math score'].values for name, group in students.groupby\n",
    "\n",
    "\n"
   ]
  },
  {
   "cell_type": "code",
   "execution_count": 21,
   "id": "389a16de",
   "metadata": {},
   "outputs": [
    {
     "name": "stdout",
     "output_type": "stream",
     "text": [
      "Chi-square Statistic: 0.015529201882465888\n",
      "P-value: 0.9008273880804724\n",
      "we fail to reject this hypothesis\n"
     ]
    }
   ],
   "source": [
    "# Question 13: Chi-square test on Student Performance dataset \n",
    "# Task: Test if gender is independent of test preparation course completion. \n",
    "contingency_table = pd.crosstab(students['gender'], students['test preparation course'])\n",
    "# Perform the Chi-square test\n",
    "chi2_stat, p_value, dof, expected = stats.chi2_contingency(contingency_table)\n",
    "# Print the results\n",
    "print(\"Chi-square Statistic:\", chi2_stat)\n",
    "\n",
    "#Is gender independent of test preparation?\n",
    "print(\"P-value:\", p_value)\n",
    "alpha = 0.05\n",
    "if p_value < alpha:\n",
    "    print(\"we reject this hypothesis\")\n",
    "else:\n",
    "    print(\"we fail to reject this hypothesis\")\n"
   ]
  },
  {
   "cell_type": "code",
   "execution_count": 23,
   "id": "0b650194",
   "metadata": {},
   "outputs": [
    {
     "name": "stdout",
     "output_type": "stream",
     "text": [
      "T-statistic: 0.6693891347748897\n",
      "P-value: 0.5063892967407193\n",
      "we fail to reject this hypothesis\n"
     ]
    }
   ],
   "source": [
    "# Question 14: One-sample t-test on Iris dataset Task: Test if the mean petal width of Iris-virginica is equal to 2.0. virginica_petal_width = iris[iris['Species'] == 'Iris-virginica']['PetalWidthCm']\n",
    "virginica_petal_width = iris[iris['Species'] == 'Iris-virginica']['PetalWidthCm']\n",
    "# Perform the one-sample t-test\n",
    "t_stat, p_value = stats.ttest_1samp(virginica_petal_width, 2.0)\n",
    "# Print the results\n",
    "print(\"T-statistic:\", t_stat)\n",
    "\n",
    "#Is the mean petal width significantly different from 2.0?\n",
    "print(\"P-value:\", p_value)\n",
    "alpha = 0.05\n",
    "if p_value < alpha:\n",
    "    print(\"we reject this hypothesis\")\n",
    "else:\n",
    "    print(\"we fail to reject this hypothesis\")"
   ]
  },
  {
   "cell_type": "code",
   "execution_count": null,
   "id": "d3c298b4",
   "metadata": {},
   "outputs": [
    {
     "name": "stdout",
     "output_type": "stream",
     "text": [
      "T-statistic: 3.9750092446930707\n",
      "P-value: 8.299951210215282e-05\n",
      "we reject this hypothesis\n"
     ]
    }
   ],
   "source": [
    "# Question 15: Two-sample t-test on Titanic dataset Task: Compare fare paid by survivors vs. non-survivors. survivor_fare = titanic[titanic['Survived'] == 1]['Fare'].dropna() nonsurvivor_fare = titanic[titanic['Survived'] == 0]['Fare'].dropna()\n",
    "survivor_fare = titanic[titanic['Survived'] == 1]['Fare'].dropna()\n",
    "nonsurvivor_fare = titanic[titanic['Survived'] == 0]['Fare'].dropna()\n",
    "# Perform the independent t-test\n",
    "t_stat, p_value = stats.ttest_ind(survivor_fare, nonsurvivor_fare)\n",
    "# Print the results\n",
    "print(\"T-statistic:\", t_stat)\n",
    "\n",
    "#Are fares significantly different between survivors and non-survivors?\n",
    "print(\"P-value:\", p_value)\n",
    "alpha = 0.05\n",
    "if p_value < alpha:\n",
    "    print(\"we reject this hypothesis\")\n",
    "else:\n",
    "    print(\"we fail to reject this hypothesis\")"
   ]
  },
  {
   "cell_type": "code",
   "execution_count": null,
   "id": "497adc9f",
   "metadata": {},
   "outputs": [
    {
     "name": "stdout",
     "output_type": "stream",
     "text": [
      "ANOVA F-statistic: 119.26450218450468\n",
      "ANOVA p-value: 1.669669190769383e-31\n",
      "we reject this hypothesis\n"
     ]
    }
   ],
   "source": [
    "# Question 16: One-way ANOVA on Iris dataset Task: Test if sepal length differs across Iris species.\n",
    "# Perform one-way ANOVA\n",
    "anova_result = stats.f_oneway(\n",
    "    iris[iris['Species'] == 'Iris-setosa']['SepalLengthCm'],\n",
    "    iris[iris['Species'] == 'Iris-versicolor']['SepalLengthCm'],\n",
    "    iris[iris['Species'] == 'Iris-virginica']['SepalLengthCm']\n",
    ")\n",
    "# Print the results\n",
    "print(\"ANOVA F-statistic:\", anova_result.statistic)\n",
    "\n",
    "#Is there a significant difference in sepal length across species?\n",
    "print(\"ANOVA p-value:\", anova_result.pvalue)\n",
    "alpha = 0.05\n",
    "if anova_result.pvalue < alpha:\n",
    "    print(\"we reject this hypothesis\")\n",
    "else:\n",
    "    print(\"we fail to reject this hypothesis\")"
   ]
  },
  {
   "cell_type": "code",
   "execution_count": null,
   "id": "303970d7",
   "metadata": {},
   "outputs": [
    {
     "name": "stdout",
     "output_type": "stream",
     "text": [
      "Chi-square Statistic: 82.83186678873668\n",
      "P-value: 4.373384811850251e-17\n",
      "we reject this hypothesis\n"
     ]
    }
   ],
   "source": [
    "# Question 17: Chi-square test on Titanic dataset Task: Test if embarkation port (Embarked) is independent of passenger class. contingency_table = pd.crosstab(titanic['Embarked'], titanic['Pclass'])\n",
    "contingency_table = pd.crosstab(titanic['Embarked'], titanic['Pclass'])\n",
    "# Perform the Chi-square test\n",
    "chi2_stat, p_value, dof, expected = stats.chi2_contingency(contingency_table)\n",
    "# Print the results\n",
    "print(\"Chi-square Statistic:\", chi2_stat)\n",
    "print(\"P-value:\", p_value)\n",
    "\n",
    "#Is embarkation port independent of passenger class? \n",
    "alpha = 0.05\n",
    "if p_value < alpha:\n",
    "    print(\"we reject this hypothesis\")\n",
    "else:\n",
    "    print(\"we fail to reject this hypothesis\")"
   ]
  },
  {
   "cell_type": "code",
   "execution_count": 31,
   "id": "200b4c3f",
   "metadata": {},
   "outputs": [
    {
     "name": "stdout",
     "output_type": "stream",
     "text": [
      "Sample Mean: 66.089\n",
      "Sample Size: 1000\n",
      "Z-statistic: 2.2958135812822404\n",
      "P-value: 0.021686542565173196\n",
      "we reject this hypothesis\n"
     ]
    }
   ],
   "source": [
    "# Question 18: One-sample z-test on Student Performance dataset Task: Test if the mean math score is equal to 65 (assume population std = 15).\n",
    "math_scores = students['math score'].dropna()  # Drop NaN values\n",
    "mean_math_score = 65\n",
    "population_std = 15\n",
    "# Calculate the sample mean and size\n",
    "sample_mean = math_scores.mean()\n",
    "sample_size = math_scores.count()\n",
    "print(\"Sample Mean:\", sample_mean)\n",
    "print(\"Sample Size:\", sample_size)\n",
    "\n",
    "# Perform the one-sample z-test\n",
    "z_stat = (sample_mean - mean_math_score) / (population_std / (sample_size ** 0.5))\n",
    "p_value = stats.norm.sf(abs(z_stat)) * 2  # Two-tailed test\n",
    "# Print the results\n",
    "print(\"Z-statistic:\", z_stat)\n",
    "#Is the mean math score significantly different from 65?\n",
    "print(\"P-value:\", p_value)\n",
    "alpha = 0.05\n",
    "if p_value < alpha:\n",
    "    print(\"we reject this hypothesis\")\n",
    "else:\n",
    "    print(\"we fail to reject this hypothesis\")"
   ]
  },
  {
   "cell_type": "code",
   "execution_count": 32,
   "id": "d3788e43",
   "metadata": {},
   "outputs": [
    {
     "name": "stdout",
     "output_type": "stream",
     "text": [
      "T-statistic: 7.787445512854921\n",
      "P-value: 1.7054750946105386e-14\n",
      "we reject this hypothesis\n"
     ]
    }
   ],
   "source": [
    "# Question 19: Paired t-test on Student Performance dataset Task: Test if reading score and writing score differ for the same students.\n",
    "reading_scores = students['reading score']\n",
    "writing_scores = students['writing score']\n",
    "# Perform the paired t-test\n",
    "t_stat, p_value = stats.ttest_rel(reading_scores, writing_scores)\n",
    "# Print the results\n",
    "print(\"T-statistic:\", t_stat)\n",
    "#Is there a significant difference between reading and writing scores?\n",
    "print(\"P-value:\", p_value)\n",
    "alpha = 0.05\n",
    "if p_value < alpha:\n",
    "    print(\"we reject this hypothesis\")\n",
    "else:\n",
    "    print(\"we fail to reject this hypothesis\")"
   ]
  },
  {
   "cell_type": "code",
   "execution_count": 33,
   "id": "c35ab64b",
   "metadata": {},
   "outputs": [
    {
     "name": "stdout",
     "output_type": "stream",
     "text": [
      "T-statistic: -12.603779441384985\n",
      "P-value: 3.1788195478061495e-22\n",
      "we reject this hypothesis\n"
     ]
    }
   ],
   "source": [
    "# Question 20: Two-sample t-test on Iris dataset Task: Compare petal length of Iris-versicolor and Iris-virginica. versicolor_petal_length = iris[iris['Species'] == 'Iris-versicolor']['PetalLengthCm'] virginica_petal_length = iris[iris['Species'] == 'Iris-virginica']['PetalLengthCm']\n",
    "versicolor_petal_length = iris[iris['Species'] == 'Iris-versicolor']['PetalLengthCm']\n",
    "virginica_petal_length = iris[iris['Species'] == 'Iris-virginica']['PetalLengthCm']\n",
    "# Perform the independent t-test    \n",
    "t_stat, p_value = stats.ttest_ind(versicolor_petal_length, virginica_petal_length)\n",
    "# Print the results\n",
    "print(\"T-statistic:\", t_stat)\n",
    "# Are the petal lengths significantly different?\n",
    "print(\"P-value:\", p_value)\n",
    "alpha = 0.05\n",
    "if p_value < alpha:\n",
    "    print(\"we reject this hypothesis\")\n",
    "else:\n",
    "    print(\"we fail to reject this hypothesis\")"
   ]
  },
  {
   "cell_type": "code",
   "execution_count": 34,
   "id": "0cc7b8b6",
   "metadata": {},
   "outputs": [
    {
     "name": "stdout",
     "output_type": "stream",
     "text": [
      "ANOVA F-statistic: 61.96308687030073\n",
      "ANOVA p-value: 9.081783336895556e-15\n",
      "we reject this hypothesis\n"
     ]
    }
   ],
   "source": [
    "# Question 21: One-way ANOVA on Student Performance dataset Task: Test if reading scores differ across test preparation course status.\n",
    "# Perform one-way ANOVA\n",
    "anova_result = stats.f_oneway(\n",
    "    students[students['test preparation course'] == 'completed']['reading score'],\n",
    "    students[students['test preparation course'] == 'none']['reading score']\n",
    ")\n",
    "# Print the results\n",
    "print(\"ANOVA F-statistic:\", anova_result.statistic)\n",
    "# Is there a significant difference in reading scores across test preparation course status?\n",
    "print(\"ANOVA p-value:\", anova_result.pvalue)\n",
    "alpha = 0.05\n",
    "if anova_result.pvalue < alpha:\n",
    "    print(\"we reject this hypothesis\")  \n",
    "else:\n",
    "    print(\"we fail to reject this hypothesis\")"
   ]
  },
  {
   "cell_type": "code",
   "execution_count": 35,
   "id": "a919a406",
   "metadata": {},
   "outputs": [
    {
     "name": "stdout",
     "output_type": "stream",
     "text": [
      "Chi-square Statistic: 9.54407054307069\n",
      "P-value: 0.08923388625809343\n",
      "we fail to reject this hypothesis\n"
     ]
    }
   ],
   "source": [
    "# Question 22: Chi-square test on Student Performance dataset Task: Test if parental level of education is independent of test preparation course. contingency_table = pd.crosstab(students['parental level of education'], students['test preparation course'])\n",
    "contingency_table = pd.crosstab(students['parental level of education'], students['test preparation course'])\n",
    "# Perform the Chi-square test\n",
    "chi2_stat, p_value, dof, expected = stats.chi2_contingency(contingency_table)\n",
    "# Print the results\n",
    "print(\"Chi-square Statistic:\", chi2_stat)\n",
    "# Is parental level of education independent of test preparation course?\n",
    "print(\"P-value:\", p_value)\n",
    "alpha = 0.05\n",
    "if p_value < alpha:\n",
    "    print(\"we reject this hypothesis\")\n",
    "else:\n",
    "    print(\"we fail to reject this hypothesis\")"
   ]
  },
  {
   "cell_type": "code",
   "execution_count": 36,
   "id": "b094e973",
   "metadata": {},
   "outputs": [
    {
     "name": "stdout",
     "output_type": "stream",
     "text": [
      "T-statistic: 2.0553643800991495\n",
      "P-value: 0.04046758014596787\n",
      "we reject this hypothesis\n"
     ]
    }
   ],
   "source": [
    "# Question 23: One-sample t-test on Titanic dataset Task: Test if the mean fare is equal to 30.\n",
    "titanic_fare = titanic['Fare'].dropna()  # Drop NaN values\n",
    "mean_fare = 30\n",
    "# Perform the one-sample t-test\n",
    "t_stat, p_value = stats.ttest_1samp(titanic_fare, mean_fare)\n",
    "# Print the results\n",
    "print(\"T-statistic:\", t_stat)\n",
    "# Is the mean fare significantly different from 30?\n",
    "print(\"P-value:\", p_value)\n",
    "alpha = 0.05\n",
    "if p_value < alpha:\n",
    "    print(\"we reject this hypothesis\")\n",
    "else:\n",
    "    print(\"we fail to reject this hypothesis\")"
   ]
  },
  {
   "cell_type": "code",
   "execution_count": 37,
   "id": "8355af1a",
   "metadata": {},
   "outputs": [
    {
     "name": "stdout",
     "output_type": "stream",
     "text": [
      "T-statistic: 10.409173436808748\n",
      "P-value: 3.68529173524572e-24\n",
      "we reject this hypothesis\n"
     ]
    }
   ],
   "source": [
    "# Question 24: Two-sample t-test on Student Performance dataset Task: Compare writing scores of students with vs. without test preparation. prep_writing = students[students['test preparation course'] == 'completed']['writing score'] noprep_writing = students[students['test preparation course'] == 'none']['writing score']\n",
    "prep_writing = students[students['test preparation course'] == 'completed']['writing score']\n",
    "noprep_writing = students[students['test preparation course'] == 'none']['writing score']\n",
    "# Perform the independent t-test\n",
    "t_stat, p_value = stats.ttest_ind(prep_writing, noprep_writing)\n",
    "# Print the results\n",
    "print(\"T-statistic:\", t_stat)\n",
    "# Are the writing scores significantly different?\n",
    "print(\"P-value:\", p_value)\n",
    "alpha = 0.05\n",
    "if p_value < alpha:\n",
    "    print(\"we reject this hypothesis\")\n",
    "else:\n",
    "    print(\"we fail to reject this hypothesis\")"
   ]
  },
  {
   "cell_type": "code",
   "execution_count": 38,
   "id": "c96b1b78",
   "metadata": {},
   "outputs": [
    {
     "name": "stdout",
     "output_type": "stream",
     "text": [
      "F-statistic: 5.5629596600367455\n",
      "P-value: 0.004207167976872811\n",
      "we reject this hypothesis\n"
     ]
    }
   ],
   "source": [
    "# Question 25: One-way ANOVA on Titanic dataset Task: Test if age differs across embarkation ports (Embarked).\n",
    "# Group ages by embarkation port\n",
    "age_groups = [group['Age'].dropna().values for name, group in titanic.groupby('Embarked')]\n",
    "# Perform the one-way ANOVA\n",
    "f_stat, p_value = stats.f_oneway(*age_groups)\n",
    "# Print the results\n",
    "print(\"F-statistic:\", f_stat)\n",
    "# Is there a significant difference in age across embarkation ports?\n",
    "print(\"P-value:\", p_value)\n",
    "alpha = 0.05\n",
    "if p_value < alpha:\n",
    "    print(\"we reject this hypothesis\")\n",
    "else:\n",
    "    print(\"we fail to reject this hypothesis\")"
   ]
  }
 ],
 "metadata": {
  "kernelspec": {
   "display_name": "Python 3",
   "language": "python",
   "name": "python3"
  },
  "language_info": {
   "codemirror_mode": {
    "name": "ipython",
    "version": 3
   },
   "file_extension": ".py",
   "mimetype": "text/x-python",
   "name": "python",
   "nbconvert_exporter": "python",
   "pygments_lexer": "ipython3",
   "version": "3.13.3"
  }
 },
 "nbformat": 4,
 "nbformat_minor": 5
}
